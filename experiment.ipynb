{
 "cells": [
  {
   "cell_type": "markdown",
   "metadata": {},
   "source": [
    "## Interacting with the deployed Contracts on the Hardhat environment"
   ]
  },
  {
   "cell_type": "code",
   "execution_count": 1,
   "metadata": {},
   "outputs": [],
   "source": [
    "#Run the node.\n",
    "#in new tab run contract\n",
    "#npx hardhat run --network localhost scripts/deploy.js"
   ]
  },
  {
   "cell_type": "code",
   "execution_count": 2,
   "metadata": {},
   "outputs": [],
   "source": [
    "# Importing libraries\n",
    "from web3 import Web3\n",
    "import json"
   ]
  },
  {
   "cell_type": "markdown",
   "metadata": {},
   "source": [
    "#### Connecting to Hardhat environment. <br> <i>Note: Make sure environment is up and running </i>"
   ]
  },
  {
   "cell_type": "code",
   "execution_count": 3,
   "metadata": {},
   "outputs": [],
   "source": [
    "# Started HTTP and WebSocket JSON-RPC server at ...\n",
    "HTTP_Server = 'http://127.0.0.1:8545'"
   ]
  },
  {
   "cell_type": "code",
   "execution_count": 4,
   "metadata": {},
   "outputs": [
    {
     "name": "stdout",
     "output_type": "stream",
     "text": [
      "isConnected: True\n"
     ]
    }
   ],
   "source": [
    "# Checking the web3 connection\n",
    "web3 = Web3(Web3.HTTPProvider(HTTP_Server))\n",
    "print(\"isConnected:\",web3.isConnected())"
   ]
  },
  {
   "cell_type": "markdown",
   "metadata": {},
   "source": [
    "#### Getting the list of accounts\n",
    "\n",
    "| Role   \t| Size \t| index \t| :index \t|\n",
    "|--------\t|------\t|-------\t|--------\t|\n",
    "| Admins \t| 5    \t| 0     \t| 4      \t|\n",
    "| Car    \t| 3000 \t| 5     \t| 3004   \t|\n",
    "| Busses \t| 200  \t| 3005  \t| 3204   \t|\n",
    "| Truck  \t| 45   \t| 3205  \t| 3249   \t|\n",
    "\n",
    "Generated total: 3250 Wallets"
   ]
  },
  {
   "cell_type": "code",
   "execution_count": 5,
   "metadata": {},
   "outputs": [],
   "source": [
    "# Asserting that we have correct number of accounts\n",
    "accounts_list = web3.eth.accounts\n",
    "\n",
    "assert(len(accounts_list) == 3250)"
   ]
  },
  {
   "cell_type": "code",
   "execution_count": 6,
   "metadata": {},
   "outputs": [
    {
     "name": "stdout",
     "output_type": "stream",
     "text": [
      "\n",
      "Contract_Owner: 0xf39Fd6e51aad88F6F4ce6aB8827279cffFb92266\n",
      "electric_Station: 0x70997970C51812dc3A010C7d01b50e0d17dc79C8\n",
      "water_Station: 0x3C44CdDdB6a900fa2b585dd299e03d12FA4293BC\n",
      "hydrogen_Station: 0x90F79bf6EB2c4f870365E785982E1f101E93b906\n",
      "filling_Station: 0x15d34AAf54267DB7D7c367839AAf71A00a2C6A65\n",
      "\n"
     ]
    }
   ],
   "source": [
    "#getting the lists of accounts available, Account[0] will be like an auditor account\n",
    "\n",
    "#accounts_list[0]: Contract_Owner\n",
    "Contract_Owner = accounts_list[0]\n",
    "#accounts_list[1]: electric_Station\n",
    "electric_Station = accounts_list[1]\n",
    "#accounts_list[2]: water_Station\n",
    "water_Station = accounts_list[2]\n",
    "#accounts_list[3]: hydrogen_Station\n",
    "hydrogen_Station = accounts_list[3]\n",
    "#accounts_list[4]: filling_Station\n",
    "filling_Station = accounts_list[4]\n",
    "\n",
    "\n",
    "print(f'''\n",
    "Contract_Owner: {Contract_Owner}\n",
    "electric_Station: {electric_Station}\n",
    "water_Station: {water_Station}\n",
    "hydrogen_Station: {hydrogen_Station}\n",
    "filling_Station: {filling_Station}\n",
    "''')"
   ]
  },
  {
   "cell_type": "code",
   "execution_count": 7,
   "metadata": {},
   "outputs": [],
   "source": [
    "# storing Cars' address in a list\n",
    "car_Addresses = []\n",
    "for i in range(5,3005):\n",
    "    car_Addresses.append(accounts_list[i])\n",
    "\n",
    "assert(len(car_Addresses)==3000)"
   ]
  },
  {
   "cell_type": "code",
   "execution_count": 8,
   "metadata": {},
   "outputs": [],
   "source": [
    "# storing Busses address in a list\n",
    "bus_Addresses = []\n",
    "for i in range(3005,3205):\n",
    "    bus_Addresses.append(accounts_list[i])\n",
    "\n",
    "assert(len(bus_Addresses)==200)"
   ]
  },
  {
   "cell_type": "code",
   "execution_count": 9,
   "metadata": {},
   "outputs": [],
   "source": [
    "# storing Truck address in a list\n",
    "truck_Addresses = []\n",
    "for i in range(3205,3250):\n",
    "    truck_Addresses.append(accounts_list[i])\n",
    "\n",
    "assert(len(truck_Addresses)==45)"
   ]
  },
  {
   "cell_type": "code",
   "execution_count": null,
   "metadata": {},
   "outputs": [],
   "source": []
  },
  {
   "cell_type": "code",
   "execution_count": 10,
   "metadata": {},
   "outputs": [],
   "source": [
    "# creating instance of the the smart contract\n",
    "# Getting ABI\n",
    "with open('artifacts/contracts/HydrogenProductions.sol/SUPPLYHYDROGEN.json') as f:\n",
    "    contract_abi = json.load(f)['abi']\n",
    "    \n",
    "# contract_abi"
   ]
  },
  {
   "cell_type": "code",
   "execution_count": 11,
   "metadata": {},
   "outputs": [],
   "source": [
    "#getting Deployed Address... NOTE THIS MIGHT CHANGE, SO MAKE SURE YOU ARE RUNNING CORRECT ADDRESS\n",
    "contract_address = '0x5FbDB2315678afecb367f032d93F642f64180aa3'"
   ]
  },
  {
   "cell_type": "code",
   "execution_count": null,
   "metadata": {},
   "outputs": [],
   "source": []
  },
  {
   "cell_type": "code",
   "execution_count": 12,
   "metadata": {},
   "outputs": [],
   "source": [
    "#Instance of the contract\n",
    "h2p_contract = web3.eth.contract(address=contract_address, abi = contract_abi)"
   ]
  },
  {
   "cell_type": "code",
   "execution_count": null,
   "metadata": {},
   "outputs": [],
   "source": []
  },
  {
   "cell_type": "code",
   "execution_count": 13,
   "metadata": {},
   "outputs": [],
   "source": [
    "#Production Phase"
   ]
  },
  {
   "cell_type": "code",
   "execution_count": 14,
   "metadata": {},
   "outputs": [],
   "source": [
    "indexWATER = h2p_contract.functions.WATER().call();\n",
    "indexRENEWABLES = h2p_contract.functions.RENEWABLES().call();\n",
    "indexHYDROGEN_FUEL = h2p_contract.functions.HYDROGEN_FUEL().call();\n",
    "\n",
    "assert(indexWATER == 0)\n",
    "assert(indexRENEWABLES == 1)\n",
    "assert(indexHYDROGEN_FUEL == 2)"
   ]
  },
  {
   "cell_type": "code",
   "execution_count": 15,
   "metadata": {},
   "outputs": [],
   "source": [
    "# Requirements\n",
    "waterRequired = 24850 * 109106;\n",
    "energyRequired = 24850 * 550000;\n"
   ]
  },
  {
   "cell_type": "code",
   "execution_count": null,
   "metadata": {},
   "outputs": [],
   "source": []
  },
  {
   "cell_type": "code",
   "execution_count": 16,
   "metadata": {},
   "outputs": [],
   "source": [
    "# Creating empty list for gas appending"
   ]
  },
  {
   "cell_type": "code",
   "execution_count": 17,
   "metadata": {},
   "outputs": [],
   "source": [
    "def gas_consumption(**kwargs):    \n",
    "    if kwargs['solo'] == True:\n",
    "        transaction_hash = kwargs['transaction']\n",
    "        receipt = web3.eth.waitForTransactionReceipt(transaction_hash).gasUsed\n",
    "        return receipt\n",
    "\n",
    "    else:\n",
    "        transaction_hash = kwargs['transaction']\n",
    "        receipt = web3.eth.waitForTransactionReceipt(transaction_hash).gasUsed\n",
    "        return receipt\n",
    "\n"
   ]
  },
  {
   "cell_type": "code",
   "execution_count": 18,
   "metadata": {},
   "outputs": [
    {
     "name": "stdout",
     "output_type": "stream",
     "text": [
      "0xb8c5cf7880624d667d0a6d813f52000888edcafc27e5b7359513f108a6fbbba8\n",
      "gas_water_minting 50105\n",
      "0xe48a7446f9126bdbb8577a7f7e0cc6becf5cbeb33b7ddd7039147e3697b482c5\n",
      "gas_electricity_minting 50095\n"
     ]
    }
   ],
   "source": [
    "# Minting Water and Electricity\n",
    "_ = h2p_contract.functions.mintWater(waterRequired).transact({'from':water_Station }).hex()\n",
    "print(_)\n",
    "gas_water_minting = gas_consumption(transaction = _, solo = False)\n",
    "print('gas_water_minting',gas_water_minting)\n",
    "\n",
    "_ = h2p_contract.functions.mintEnergy(energyRequired).transact({'from':electric_Station }).hex()\n",
    "print(_)\n",
    "gas_electricity_minting = gas_consumption(transaction = _, solo = False)\n",
    "print('gas_electricity_minting',gas_electricity_minting)"
   ]
  },
  {
   "cell_type": "code",
   "execution_count": null,
   "metadata": {},
   "outputs": [],
   "source": []
  },
  {
   "cell_type": "code",
   "execution_count": null,
   "metadata": {},
   "outputs": [],
   "source": []
  },
  {
   "cell_type": "code",
   "execution_count": 19,
   "metadata": {},
   "outputs": [
    {
     "name": "stdout",
     "output_type": "stream",
     "text": [
      "0xc50d6378eaec3481fa8d8d34782e3f0855ef135e53d2bd0aec613965b063575e\n",
      "gas_water_safeTransferFrom 53687\n"
     ]
    }
   ],
   "source": [
    "#Transfering Resources to H2 Plant: Water\n",
    "_ = h2p_contract.functions.safeTransferFrom(water_Station,hydrogen_Station, indexWATER, waterRequired, '0x0000000000000000000000000000000000000000000000000000000000000000').transact({'from':water_Station })\n",
    "print(_.hex())\n",
    "gas_water_safeTransferFrom = gas_consumption(transaction = _, solo = False)\n",
    "print('gas_water_safeTransferFrom',gas_water_safeTransferFrom)"
   ]
  },
  {
   "cell_type": "code",
   "execution_count": 20,
   "metadata": {},
   "outputs": [
    {
     "name": "stdout",
     "output_type": "stream",
     "text": [
      "0x24b2ab44c940ea494765bbd1cdd2e6725cadc7d48ec525c3d494fb657f896734\n",
      "gas_electricity_safeTransferFrom 53723\n"
     ]
    }
   ],
   "source": [
    "#Transfering Resources to H2 Plant: Electricity\n",
    "_ = h2p_contract.functions.safeTransferFrom(electric_Station,hydrogen_Station, indexRENEWABLES, energyRequired, '0x0000000000000000000000000000000000000000000000000000000000000000').transact({'from':electric_Station })\n",
    "print(_.hex())\n",
    "gas_electricity_safeTransferFrom = gas_consumption(transaction = _, solo = False)\n",
    "print('gas_electricity_safeTransferFrom',gas_electricity_safeTransferFrom)"
   ]
  },
  {
   "cell_type": "code",
   "execution_count": 21,
   "metadata": {},
   "outputs": [
    {
     "name": "stdout",
     "output_type": "stream",
     "text": [
      "0x1a0204e25331c4adf59a9ae4e9d8b0cc4d57c3c2507dcf1651acca94f311fa64\n",
      "gas_hydrogen_mint 71846\n"
     ]
    }
   ],
   "source": [
    "# minting and buring.\n",
    "_ = h2p_contract.functions.mintHydrogen().transact({'from':hydrogen_Station })\n",
    "print(_.hex())\n",
    "gas_hydrogen_mint = gas_consumption(transaction = _, solo = False)\n",
    "print('gas_hydrogen_mint',gas_hydrogen_mint)"
   ]
  },
  {
   "cell_type": "code",
   "execution_count": 22,
   "metadata": {},
   "outputs": [
    {
     "name": "stdout",
     "output_type": "stream",
     "text": [
      "0x17ee53013c56e15e4dfdcb09bf85285987ce812a36d48fe6e8ca5b4e406aa785\n",
      "gas_hydrogen_safeTransferFrom 53711\n"
     ]
    }
   ],
   "source": [
    "# Transfering to Filling Station\n",
    "# Getting Balance of H2 at hydrogen_Station\n",
    "\n",
    "h2_balance = h2p_contract.functions.balanceOf(hydrogen_Station,indexHYDROGEN_FUEL).call()\n",
    "\n",
    "_ = h2p_contract.functions.safeTransferFrom(hydrogen_Station,filling_Station, indexHYDROGEN_FUEL, h2_balance, '0x0000000000000000000000000000000000000000000000000000000000000000').transact({'from':hydrogen_Station })\n",
    "\n",
    "print(_.hex())\n",
    "gas_hydrogen_safeTransferFrom = gas_consumption(transaction = _, solo = False)\n",
    "print('gas_hydrogen_safeTransferFrom',gas_hydrogen_safeTransferFrom)"
   ]
  },
  {
   "cell_type": "code",
   "execution_count": null,
   "metadata": {},
   "outputs": [],
   "source": []
  },
  {
   "cell_type": "code",
   "execution_count": null,
   "metadata": {},
   "outputs": [],
   "source": []
  },
  {
   "cell_type": "markdown",
   "metadata": {},
   "source": [
    "#### Now filling station has required amount of H<sub>2</sub>, lets fill our vehicles."
   ]
  },
  {
   "cell_type": "code",
   "execution_count": null,
   "metadata": {},
   "outputs": [],
   "source": []
  },
  {
   "cell_type": "code",
   "execution_count": 23,
   "metadata": {},
   "outputs": [],
   "source": [
    "h2_balance_filling = h2p_contract.functions.balanceOf(filling_Station,indexHYDROGEN_FUEL).call()\n",
    "assert(h2_balance_filling == 248500000)"
   ]
  },
  {
   "cell_type": "code",
   "execution_count": 24,
   "metadata": {},
   "outputs": [],
   "source": [
    "#Filling Cars\n",
    "h2_car_requirement = 60000 # 6.0000\n",
    "h2_car_gas_filling = []\n",
    "\n",
    "for i in car_Addresses:\n",
    "    _ = h2p_contract.functions.safeTransferFrom(filling_Station,i,indexHYDROGEN_FUEL, h2_car_requirement, '0x0000000000000000000000000000000000000000000000000000000000000000').transact({'from':filling_Station })\n",
    "    h2_car_gas_filling.append(gas_consumption(transaction = _, solo = False))\n",
    "    "
   ]
  },
  {
   "cell_type": "code",
   "execution_count": 25,
   "metadata": {},
   "outputs": [],
   "source": [
    "#Filling Busses\n",
    "h2_bus_requirement = 230000 # 23.0000\n",
    "h2_bus_gas_filling = []\n",
    "\n",
    "for i in bus_Addresses:\n",
    "    _ = h2p_contract.functions.safeTransferFrom(filling_Station,i,indexHYDROGEN_FUEL, h2_bus_requirement, '0x0000000000000000000000000000000000000000000000000000000000000000').transact({'from':filling_Station })\n",
    "    h2_bus_gas_filling.append(gas_consumption(transaction = _, solo = False))"
   ]
  },
  {
   "cell_type": "code",
   "execution_count": 26,
   "metadata": {},
   "outputs": [],
   "source": [
    "#Filling Busses\n",
    "h2_truck_requirement = 500000 # 50.0000\n",
    "h2_truck_gas_filling = []\n",
    "\n",
    "for i in truck_Addresses:\n",
    "    _ = h2p_contract.functions.safeTransferFrom(filling_Station,i,indexHYDROGEN_FUEL, h2_truck_requirement, '0x0000000000000000000000000000000000000000000000000000000000000000').transact({'from':filling_Station })\n",
    "    h2_truck_gas_filling.append(gas_consumption(transaction = _, solo = False))"
   ]
  },
  {
   "cell_type": "code",
   "execution_count": 27,
   "metadata": {},
   "outputs": [],
   "source": [
    "h2_balance_filling = h2p_contract.functions.balanceOf(filling_Station,indexHYDROGEN_FUEL).call()\n",
    "\n",
    "assert(h2_balance_filling == 0)"
   ]
  },
  {
   "cell_type": "code",
   "execution_count": 28,
   "metadata": {},
   "outputs": [],
   "source": [
    "#h2_car_gas_filling\n"
   ]
  },
  {
   "cell_type": "code",
   "execution_count": null,
   "metadata": {},
   "outputs": [],
   "source": []
  },
  {
   "cell_type": "code",
   "execution_count": 29,
   "metadata": {},
   "outputs": [],
   "source": [
    "# h2_bus_gas_filling"
   ]
  },
  {
   "cell_type": "code",
   "execution_count": 30,
   "metadata": {},
   "outputs": [],
   "source": [
    "# h2_truck_gas_filling"
   ]
  },
  {
   "cell_type": "code",
   "execution_count": 31,
   "metadata": {},
   "outputs": [
    {
     "name": "stdout",
     "output_type": "stream",
     "text": [
      "avg_car 58486.136\n"
     ]
    }
   ],
   "source": [
    "avg_car = sum(h2_car_gas_filling)/len(h2_car_gas_filling)\n",
    "print('avg_car',avg_car)"
   ]
  },
  {
   "cell_type": "code",
   "execution_count": 32,
   "metadata": {},
   "outputs": [
    {
     "name": "stdout",
     "output_type": "stream",
     "text": [
      "avg_bus 58497.92\n"
     ]
    }
   ],
   "source": [
    "avg_bus = sum(h2_bus_gas_filling)/len(h2_bus_gas_filling)\n",
    "print('avg_bus',avg_bus)"
   ]
  },
  {
   "cell_type": "code",
   "execution_count": 33,
   "metadata": {},
   "outputs": [
    {
     "name": "stdout",
     "output_type": "stream",
     "text": [
      "avg_truck 58390.73333333333\n"
     ]
    }
   ],
   "source": [
    "avg_truck = sum(h2_truck_gas_filling)/len(h2_truck_gas_filling)\n",
    "print('avg_truck',avg_truck)"
   ]
  },
  {
   "cell_type": "code",
   "execution_count": 34,
   "metadata": {},
   "outputs": [
    {
     "data": {
      "text/plain": [
       "Text(0, 0.5, '$p$')"
      ]
     },
     "execution_count": 34,
     "metadata": {},
     "output_type": "execute_result"
    },
    {
     "data": {
      "image/png": "[encoded data removed]",
      "text/plain": [
       "<Figure size 432x288 with 1 Axes>"
      ]
     },
     "metadata": {
      "needs_background": "light"
     },
     "output_type": "display_data"
    }
   ],
   "source": [
    "import matplotlib.pyplot as plt\n",
    "import numpy as np\n",
    "\n",
    "# create some randomly ddistributed data:\n",
    "# data = np.random.randn(10000)\n",
    "data = h2_car_gas_filling\n",
    "\n",
    "# sort the data:\n",
    "data_sorted = np.sort(h2_car_gas_filling)\n",
    "\n",
    "# calculate the proportional values of samples\n",
    "p = 1. * np.arange(len(data)) / (len(data) - 1)\n",
    "\n",
    "# plot the sorted data:\n",
    "fig = plt.figure()\n",
    "\n",
    "plt.plot(data_sorted, p)\n",
    "plt.xlabel('$x$')\n",
    "plt.ylabel('$p$')"
   ]
  },
  {
   "cell_type": "code",
   "execution_count": 35,
   "metadata": {},
   "outputs": [
    {
     "data": {
      "text/plain": [
       "Text(0, 0.5, '$p$')"
      ]
     },
     "execution_count": 35,
     "metadata": {},
     "output_type": "execute_result"
    },
    {
     "data": {
      "image/png": "[encoded data removed]",
      "text/plain": [
       "<Figure size 432x288 with 1 Axes>"
      ]
     },
     "metadata": {
      "needs_background": "light"
     },
     "output_type": "display_data"
    }
   ],
   "source": [
    "import matplotlib.pyplot as plt\n",
    "import numpy as np\n",
    "\n",
    "# create some randomly ddistributed data:\n",
    "# data = np.random.randn(10000)\n",
    "data = h2_bus_gas_filling\n",
    "\n",
    "# sort the data:\n",
    "data_sorted = np.sort(data)\n",
    "\n",
    "# calculate the proportional values of samples\n",
    "p = 1. * np.arange(len(data)) / (len(data) - 1)\n",
    "\n",
    "# plot the sorted data:\n",
    "fig = plt.figure()\n",
    "\n",
    "plt.plot(data_sorted, p)\n",
    "plt.xlabel('$x$')\n",
    "plt.ylabel('$p$')"
   ]
  },
  {
   "cell_type": "code",
   "execution_count": 36,
   "metadata": {},
   "outputs": [
    {
     "data": {
      "text/plain": [
       "Text(0, 0.5, '$p$')"
      ]
     },
     "execution_count": 36,
     "metadata": {},
     "output_type": "execute_result"
    },
    {
     "data": {
      "image/png": "[encoded data removed]",
      "text/plain": [
       "<Figure size 432x288 with 1 Axes>"
      ]
     },
     "metadata": {
      "needs_background": "light"
     },
     "output_type": "display_data"
    }
   ],
   "source": [
    "import matplotlib.pyplot as plt\n",
    "import numpy as np\n",
    "\n",
    "# create some randomly ddistributed data:\n",
    "# data = np.random.randn(10000)\n",
    "data = h2_truck_gas_filling\n",
    "\n",
    "# sort the data:\n",
    "data_sorted = np.sort(data)\n",
    "\n",
    "# calculate the proportional values of samples\n",
    "p = 1. * np.arange(len(data)) / (len(data) - 1)\n",
    "\n",
    "# plot the sorted data:\n",
    "fig = plt.figure()\n",
    "\n",
    "plt.plot(data_sorted, p)\n",
    "plt.xlabel('$x$')\n",
    "plt.ylabel('$p$')"
   ]
  },
  {
   "cell_type": "code",
   "execution_count": null,
   "metadata": {},
   "outputs": [],
   "source": [
    " "
   ]
  },
  {
   "cell_type": "markdown",
   "metadata": {},
   "source": [
    "# Computing Total gas"
   ]
  },
  {
   "cell_type": "code",
   "execution_count": null,
   "metadata": {},
   "outputs": [],
   "source": []
  },
  {
   "cell_type": "code",
   "execution_count": 37,
   "metadata": {},
   "outputs": [],
   "source": [
    "import math"
   ]
  },
  {
   "cell_type": "code",
   "execution_count": 38,
   "metadata": {},
   "outputs": [
    {
     "name": "stdout",
     "output_type": "stream",
     "text": [
      "contract_gas_used 3204200\n"
     ]
    }
   ],
   "source": [
    "tx_contract_deployment = web3.eth.getBlock(1)['transactions'][0].hex()\n",
    "\n",
    "deployment_tx_info = web3.eth.waitForTransactionReceipt(tx_contract_deployment)\n",
    "contract_gas_used = deployment_tx_info['gasUsed']\n",
    "print('contract_gas_used',contract_gas_used)"
   ]
  },
  {
   "cell_type": "code",
   "execution_count": 39,
   "metadata": {},
   "outputs": [],
   "source": [
    "# Total Gas spent\n",
    "Total_gas_spent_filling = (contract_gas_used \n",
    "                           + gas_water_minting\n",
    "                           + gas_electricity_minting\n",
    "                           + gas_water_safeTransferFrom\n",
    "                           + gas_electricity_safeTransferFrom\n",
    "                           + gas_hydrogen_mint\n",
    "                           + gas_hydrogen_safeTransferFrom\n",
    "                           + sum(h2_car_gas_filling) \n",
    "                           + sum(h2_bus_gas_filling) \n",
    "                           + sum(h2_truck_gas_filling))"
   ]
  },
  {
   "cell_type": "code",
   "execution_count": 40,
   "metadata": {},
   "outputs": [
    {
     "name": "stdout",
     "output_type": "stream",
     "text": [
      "Total_gas_spent_filling 193322942\n"
     ]
    }
   ],
   "source": [
    "print('Total_gas_spent_filling', Total_gas_spent_filling)"
   ]
  },
  {
   "cell_type": "markdown",
   "metadata": {},
   "source": [
    "#### Each block has a target size of 15 million gas but the size of blocks will increase or decrease in accordance with network demands, up until the block limit of 30 million gas (2x target block size)"
   ]
  },
  {
   "cell_type": "markdown",
   "metadata": {},
   "source": [
    "#### Initially they started with 5,000 but current average is 15,000,000. source: https://blog.mycrypto.com/the-history-of-ethereums-block-size-block-gas-limit\n"
   ]
  },
  {
   "cell_type": "code",
   "execution_count": 41,
   "metadata": {},
   "outputs": [],
   "source": [
    "eth_block_gas_limit_avg = 15000000\n",
    "eth_block_gas_limit_high = 2 * eth_block_gas_limit_avg"
   ]
  },
  {
   "cell_type": "code",
   "execution_count": 42,
   "metadata": {},
   "outputs": [
    {
     "name": "stdout",
     "output_type": "stream",
     "text": [
      "Number of blocks required (Avg Network) 13 Blocks\n",
      "Number of blocks required (High Network) 7 Blocks\n"
     ]
    }
   ],
   "source": [
    "#calculating for average network\n",
    "Number_of_blocks_required_ceil_avg = Total_gas_spent_filling/eth_block_gas_limit_avg\n",
    "print('Number of blocks required (Avg Network)',math.ceil(Number_of_blocks_required_ceil_avg),'Blocks')\n",
    "\n",
    "#calculating for high network\n",
    "Number_of_blocks_required_ceil_high = Total_gas_spent_filling/eth_block_gas_limit_high\n",
    "print('Number of blocks required (High Network)',math.ceil(Number_of_blocks_required_ceil_high),'Blocks')"
   ]
  },
  {
   "cell_type": "code",
   "execution_count": 43,
   "metadata": {},
   "outputs": [
    {
     "name": "stdout",
     "output_type": "stream",
     "text": [
      "time_taken ~ 156 Seconds\n",
      "time_taken ~ 84 Seconds\n"
     ]
    }
   ],
   "source": [
    "# Todo: Time calculation\n",
    "Total_Time_low = math.ceil(Number_of_blocks_required_ceil_avg) * 12\n",
    "print('time_taken ~',Total_Time_low,'Seconds')\n",
    "\n",
    "Total_Time_high = math.ceil(Number_of_blocks_required_ceil_high) * 12\n",
    "print('time_taken ~',Total_Time_high,'Seconds')\n",
    "\n"
   ]
  },
  {
   "cell_type": "code",
   "execution_count": 44,
   "metadata": {},
   "outputs": [
    {
     "name": "stdout",
     "output_type": "stream",
     "text": [
      "average_car_gas 58486.136\n",
      "average_bus_gas 58497.92\n",
      "average_truck_gas 58390.73333333333\n"
     ]
    }
   ],
   "source": [
    "#Total gas\n",
    "average_car_gas = sum(h2_car_gas_filling)/len(h2_car_gas_filling)\n",
    "print('average_car_gas',average_car_gas)\n",
    "\n",
    "average_bus_gas = sum(h2_bus_gas_filling)/len(h2_bus_gas_filling)\n",
    "print('average_bus_gas',average_bus_gas)\n",
    "\n",
    "average_truck_gas = sum(h2_truck_gas_filling)/len(h2_truck_gas_filling)\n",
    "print('average_truck_gas',average_truck_gas)"
   ]
  },
  {
   "cell_type": "code",
   "execution_count": null,
   "metadata": {},
   "outputs": [],
   "source": []
  },
  {
   "cell_type": "code",
   "execution_count": 45,
   "metadata": {},
   "outputs": [],
   "source": [
    "contract_deployment_number = 1\n",
    "# Transfer Action\n",
    "water_mint = 1\n",
    "electricity_mint = 1\n",
    "water_transfer = 1\n",
    "electricity_transfer = 1\n",
    "hydrogen_mint = 1\n",
    "hydrogen_transfer = 1\n",
    "\n",
    "\n",
    "# Equipments\n",
    "number_cars = 3000\n",
    "number_bus = 200\n",
    "number_truck = 45"
   ]
  },
  {
   "cell_type": "code",
   "execution_count": 46,
   "metadata": {},
   "outputs": [
    {
     "name": "stdout",
     "output_type": "stream",
     "text": [
      "total_gas_spent 193322942.0\n"
     ]
    }
   ],
   "source": [
    "\n",
    "total_gas_spent = (contract_gas_used * contract_deployment_number \n",
    "                   + gas_water_minting * water_mint\n",
    "                   + gas_electricity_minting * electricity_mint\n",
    "                   + gas_water_safeTransferFrom * water_transfer\n",
    "                   + gas_electricity_safeTransferFrom * electricity_transfer\n",
    "                   + gas_hydrogen_mint * hydrogen_mint\n",
    "                   + gas_hydrogen_safeTransferFrom * hydrogen_transfer\n",
    "                   + average_car_gas * number_cars\n",
    "                   + average_bus_gas * number_bus\n",
    "                   + average_truck_gas * number_truck)\n",
    "\n",
    "print('total_gas_spent',total_gas_spent)"
   ]
  },
  {
   "cell_type": "markdown",
   "metadata": {},
   "source": [
    "### Re-running the transactions and ploting the information"
   ]
  },
  {
   "cell_type": "code",
   "execution_count": 47,
   "metadata": {},
   "outputs": [
    {
     "name": "stdout",
     "output_type": "stream",
     "text": [
      "0xadf0f2018f1e66a9d21a36a7f61c4d31d2ae3d4a9a8d5c7afaf41d6534c1ab8d\n",
      "gas_water_minting_re 50105\n",
      "0x16f38e2fde9e26d63cdd0c00fb711f08c25f3e721531ec8904b17d915fd4d086\n",
      "gas_electricity_minting_re 50095\n"
     ]
    }
   ],
   "source": [
    "# Minting Water and Electricity\n",
    "_ = h2p_contract.functions.mintWater(waterRequired).transact({'from':water_Station }).hex()\n",
    "print(_)\n",
    "gas_water_minting_re = gas_consumption(transaction = _, solo = False)\n",
    "print('gas_water_minting_re',gas_water_minting_re)\n",
    "\n",
    "_ = h2p_contract.functions.mintEnergy(energyRequired).transact({'from':electric_Station }).hex()\n",
    "print(_)\n",
    "gas_electricity_minting_re = gas_consumption(transaction = _, solo = False)\n",
    "print('gas_electricity_minting_re',gas_electricity_minting_re)"
   ]
  },
  {
   "cell_type": "code",
   "execution_count": 48,
   "metadata": {},
   "outputs": [
    {
     "name": "stdout",
     "output_type": "stream",
     "text": [
      "0x12b38dff64bcdec3a605f8196ff91207cbe99c69a99d27cd9d4a7320e777d5ce\n",
      "gas_water_safeTransferFrom_re 53687\n"
     ]
    }
   ],
   "source": [
    "#Transfering Resources to H2 Plant: Water\n",
    "_ = h2p_contract.functions.safeTransferFrom(water_Station,hydrogen_Station, indexWATER, waterRequired, '0x0000000000000000000000000000000000000000000000000000000000000000').transact({'from':water_Station })\n",
    "print(_.hex())\n",
    "gas_water_safeTransferFrom_re = gas_consumption(transaction = _, solo = False)\n",
    "print('gas_water_safeTransferFrom_re',gas_water_safeTransferFrom_re)"
   ]
  },
  {
   "cell_type": "code",
   "execution_count": 49,
   "metadata": {},
   "outputs": [
    {
     "name": "stdout",
     "output_type": "stream",
     "text": [
      "0xfc1e443c9576c46de6e194bf978bad01fb5502691f6f8264bc2dd93e38b3eb40\n",
      "gas_electricity_safeTransferFrom_re 53723\n"
     ]
    }
   ],
   "source": [
    "#Transfering Resources to H2 Plant: Electricity\n",
    "_ = h2p_contract.functions.safeTransferFrom(electric_Station,hydrogen_Station, indexRENEWABLES, energyRequired, '0x0000000000000000000000000000000000000000000000000000000000000000').transact({'from':electric_Station })\n",
    "print(_.hex())\n",
    "gas_electricity_safeTransferFrom_re = gas_consumption(transaction = _, solo = False)\n",
    "print('gas_electricity_safeTransferFrom_re',gas_electricity_safeTransferFrom_re)"
   ]
  },
  {
   "cell_type": "code",
   "execution_count": 50,
   "metadata": {},
   "outputs": [
    {
     "name": "stdout",
     "output_type": "stream",
     "text": [
      "0x91fea1855d7a57a8d7bac9a26a4665f0421a7ffa54e2b3b76e600538c3af5b51\n",
      "gas_hydrogen_mint_re 71846\n"
     ]
    }
   ],
   "source": [
    "# minting and buring.\n",
    "_ = h2p_contract.functions.mintHydrogen().transact({'from':hydrogen_Station })\n",
    "print(_.hex())\n",
    "gas_hydrogen_mint_re = gas_consumption(transaction = _, solo = False)\n",
    "print('gas_hydrogen_mint_re',gas_hydrogen_mint_re)"
   ]
  },
  {
   "cell_type": "code",
   "execution_count": 51,
   "metadata": {},
   "outputs": [
    {
     "name": "stdout",
     "output_type": "stream",
     "text": [
      "0x44b106f4bd0af759a7bbb965c5aa91a3e27c3437ddb99f4bfb1494b5e17fecde\n",
      "gas_hydrogen_safeTransferFrom_re 53711\n"
     ]
    }
   ],
   "source": [
    "# Transfering to Filling Station\n",
    "# Getting Balance of H2 at hydrogen_Station\n",
    "\n",
    "h2_balance = h2p_contract.functions.balanceOf(hydrogen_Station,indexHYDROGEN_FUEL).call()\n",
    "\n",
    "_ = h2p_contract.functions.safeTransferFrom(hydrogen_Station,filling_Station, indexHYDROGEN_FUEL, h2_balance, '0x0000000000000000000000000000000000000000000000000000000000000000').transact({'from':hydrogen_Station })\n",
    "\n",
    "print(_.hex())\n",
    "gas_hydrogen_safeTransferFrom_re = gas_consumption(transaction = _, solo = False)\n",
    "print('gas_hydrogen_safeTransferFrom_re',gas_hydrogen_safeTransferFrom_re)"
   ]
  },
  {
   "cell_type": "code",
   "execution_count": 52,
   "metadata": {},
   "outputs": [],
   "source": [
    "h2_balance_filling = h2p_contract.functions.balanceOf(filling_Station,indexHYDROGEN_FUEL).call()\n",
    "assert(h2_balance_filling == 248500000)"
   ]
  },
  {
   "cell_type": "code",
   "execution_count": 53,
   "metadata": {},
   "outputs": [],
   "source": [
    "#Filling Cars\n",
    "h2_car_requirement = 60000 # 6.0000\n",
    "h2_car_gas_refilling = []\n",
    "\n",
    "for i in car_Addresses:\n",
    "    _ = h2p_contract.functions.safeTransferFrom(filling_Station,i,indexHYDROGEN_FUEL, h2_car_requirement, '0x0000000000000000000000000000000000000000000000000000000000000000').transact({'from':filling_Station })\n",
    "    h2_car_gas_refilling.append(gas_consumption(transaction = _, solo = False))\n",
    "    "
   ]
  },
  {
   "cell_type": "code",
   "execution_count": 54,
   "metadata": {},
   "outputs": [],
   "source": [
    "#Filling Busses\n",
    "h2_bus_requirement = 230000 # 23.0000\n",
    "h2_bus_gas_refilling = []\n",
    "\n",
    "for i in bus_Addresses:\n",
    "    _ = h2p_contract.functions.safeTransferFrom(filling_Station,i,indexHYDROGEN_FUEL, h2_bus_requirement, '0x0000000000000000000000000000000000000000000000000000000000000000').transact({'from':filling_Station })\n",
    "    h2_bus_gas_refilling.append(gas_consumption(transaction = _, solo = False))"
   ]
  },
  {
   "cell_type": "code",
   "execution_count": 55,
   "metadata": {},
   "outputs": [],
   "source": [
    "#Filling Busses\n",
    "h2_truck_requirement = 500000 # 50.0000\n",
    "h2_truck_gas_refilling = []\n",
    "\n",
    "for i in truck_Addresses:\n",
    "    _ = h2p_contract.functions.safeTransferFrom(filling_Station,i,indexHYDROGEN_FUEL, h2_truck_requirement, '0x0000000000000000000000000000000000000000000000000000000000000000').transact({'from':filling_Station })\n",
    "    h2_truck_gas_refilling.append(gas_consumption(transaction = _, solo = False))"
   ]
  },
  {
   "cell_type": "code",
   "execution_count": 56,
   "metadata": {},
   "outputs": [],
   "source": [
    "h2_balance_filling = h2p_contract.functions.balanceOf(filling_Station,indexHYDROGEN_FUEL).call()\n",
    "\n",
    "assert(h2_balance_filling == 0)"
   ]
  },
  {
   "cell_type": "code",
   "execution_count": 57,
   "metadata": {},
   "outputs": [
    {
     "name": "stdout",
     "output_type": "stream",
     "text": [
      "avg_h2_car_gas_refilling 41386.136\n"
     ]
    }
   ],
   "source": [
    "avg_h2_car_gas_refilling = sum(h2_car_gas_refilling)/len(h2_car_gas_refilling)\n",
    "print('avg_h2_car_gas_refilling',avg_h2_car_gas_refilling)"
   ]
  },
  {
   "cell_type": "code",
   "execution_count": 58,
   "metadata": {},
   "outputs": [
    {
     "name": "stdout",
     "output_type": "stream",
     "text": [
      "avg_h2_bus_gas_refilling 41397.92\n"
     ]
    }
   ],
   "source": [
    "avg_h2_bus_gas_refilling = sum(h2_bus_gas_refilling)/len(h2_bus_gas_refilling)\n",
    "print('avg_h2_bus_gas_refilling',avg_h2_bus_gas_refilling)"
   ]
  },
  {
   "cell_type": "code",
   "execution_count": 59,
   "metadata": {},
   "outputs": [
    {
     "name": "stdout",
     "output_type": "stream",
     "text": [
      "avg_h2_truck_gas_refilling 41290.73333333333\n"
     ]
    }
   ],
   "source": [
    "avg_h2_truck_gas_refilling = sum(h2_truck_gas_refilling)/len(h2_truck_gas_refilling)\n",
    "print('avg_h2_truck_gas_refilling',avg_h2_truck_gas_refilling)"
   ]
  },
  {
   "cell_type": "code",
   "execution_count": null,
   "metadata": {},
   "outputs": [],
   "source": []
  },
  {
   "cell_type": "code",
   "execution_count": 60,
   "metadata": {},
   "outputs": [
    {
     "name": "stdout",
     "output_type": "stream",
     "text": [
      "total_gas_spent_re 137833442.0\n"
     ]
    }
   ],
   "source": [
    "#Yury, should there be contract_gas_used * contract_deployment_number be there or not?\n",
    "\n",
    "total_gas_spent_re = (contract_gas_used * contract_deployment_number \n",
    "                   + gas_water_minting_re * water_mint\n",
    "                   + gas_electricity_minting_re * electricity_mint\n",
    "                   + gas_water_safeTransferFrom_re * water_transfer\n",
    "                   + gas_electricity_safeTransferFrom_re * electricity_transfer\n",
    "                   + gas_hydrogen_mint_re * hydrogen_mint\n",
    "                   + gas_hydrogen_safeTransferFrom_re * hydrogen_transfer\n",
    "                   + avg_h2_car_gas_refilling * number_cars\n",
    "                   + avg_h2_bus_gas_refilling * number_bus\n",
    "                   + avg_h2_truck_gas_refilling * number_truck)\n",
    "\n",
    "print('total_gas_spent_re',total_gas_spent_re)"
   ]
  },
  {
   "cell_type": "code",
   "execution_count": null,
   "metadata": {},
   "outputs": [],
   "source": []
  },
  {
   "cell_type": "code",
   "execution_count": null,
   "metadata": {},
   "outputs": [],
   "source": []
  },
  {
   "cell_type": "code",
   "execution_count": null,
   "metadata": {},
   "outputs": [],
   "source": []
  },
  {
   "cell_type": "code",
   "execution_count": 61,
   "metadata": {},
   "outputs": [
    {
     "data": {
      "text/plain": [
       "Text(0, 0.5, '$p$')"
      ]
     },
     "execution_count": 61,
     "metadata": {},
     "output_type": "execute_result"
    },
    {
     "data": {
      "image/png": "[encoded data removed]",
      "text/plain": [
       "<Figure size 432x288 with 1 Axes>"
      ]
     },
     "metadata": {
      "needs_background": "light"
     },
     "output_type": "display_data"
    }
   ],
   "source": [
    "import matplotlib.pyplot as plt\n",
    "import numpy as np\n",
    "\n",
    "# create some randomly ddistributed data:\n",
    "# data = np.random.randn(10000)\n",
    "data = h2_car_gas_refilling\n",
    "\n",
    "# sort the data:\n",
    "data_sorted = np.sort(data)\n",
    "\n",
    "# calculate the proportional values of samples\n",
    "p = 1. * np.arange(len(data)) / (len(data) - 1)\n",
    "\n",
    "# plot the sorted data:\n",
    "fig = plt.figure()\n",
    "\n",
    "plt.plot(data_sorted, p)\n",
    "plt.xlabel('$x$')\n",
    "plt.ylabel('$p$')"
   ]
  },
  {
   "cell_type": "code",
   "execution_count": 62,
   "metadata": {},
   "outputs": [
    {
     "data": {
      "text/plain": [
       "Text(0, 0.5, '$p$')"
      ]
     },
     "execution_count": 62,
     "metadata": {},
     "output_type": "execute_result"
    },
    {
     "data": {
      "image/png": "[encoded data removed]",
      "text/plain": [
       "<Figure size 432x288 with 1 Axes>"
      ]
     },
     "metadata": {
      "needs_background": "light"
     },
     "output_type": "display_data"
    }
   ],
   "source": [
    "import matplotlib.pyplot as plt\n",
    "import numpy as np\n",
    "\n",
    "# create some randomly ddistributed data:\n",
    "# data = np.random.randn(10000)\n",
    "data = h2_bus_gas_refilling\n",
    "\n",
    "# sort the data:\n",
    "data_sorted = np.sort(data)\n",
    "\n",
    "# calculate the proportional values of samples\n",
    "p = 1. * np.arange(len(data)) / (len(data) - 1)\n",
    "\n",
    "# plot the sorted data:\n",
    "fig = plt.figure()\n",
    "\n",
    "plt.plot(data_sorted, p)\n",
    "plt.xlabel('$x$')\n",
    "plt.ylabel('$p$')"
   ]
  },
  {
   "cell_type": "code",
   "execution_count": 63,
   "metadata": {},
   "outputs": [
    {
     "data": {
      "text/plain": [
       "Text(0, 0.5, '$p$')"
      ]
     },
     "execution_count": 63,
     "metadata": {},
     "output_type": "execute_result"
    },
    {
     "data": {
      "image/png": "[encoded data removed]",
      "text/plain": [
       "<Figure size 432x288 with 1 Axes>"
      ]
     },
     "metadata": {
      "needs_background": "light"
     },
     "output_type": "display_data"
    }
   ],
   "source": [
    "import matplotlib.pyplot as plt\n",
    "import numpy as np\n",
    "\n",
    "# create some randomly ddistributed data:\n",
    "# data = np.random.randn(10000)\n",
    "data = h2_truck_gas_refilling\n",
    "\n",
    "# sort the data:\n",
    "data_sorted = np.sort(data)\n",
    "\n",
    "# calculate the proportional values of samples\n",
    "p = 1. * np.arange(len(data)) / (len(data) - 1)\n",
    "\n",
    "# plot the sorted data:\n",
    "fig = plt.figure()\n",
    "\n",
    "plt.plot(data_sorted, p)\n",
    "plt.xlabel('$x$')\n",
    "plt.ylabel('$p$')"
   ]
  },
  {
   "cell_type": "code",
   "execution_count": null,
   "metadata": {},
   "outputs": [],
   "source": []
  }
 ],
 "metadata": {
  "kernelspec": {
   "display_name": "Python 3",
   "language": "python",
   "name": "python3"
  },
  "language_info": {
   "codemirror_mode": {
    "name": "ipython",
    "version": 3
   },
   "file_extension": ".py",
   "mimetype": "text/x-python",
   "name": "python",
   "nbconvert_exporter": "python",
   "pygments_lexer": "ipython3",
   "version": "3.7.6"
  }
 },
 "nbformat": 4,
 "nbformat_minor": 4
}
